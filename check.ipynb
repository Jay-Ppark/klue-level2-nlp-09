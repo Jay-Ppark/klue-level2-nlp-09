{
 "cells": [
  {
   "cell_type": "code",
   "execution_count": 16,
   "source": [
    "import pandas as pd\n",
    "answer = pd.read_csv('./output.csv')\n",
    "my = pd.read_csv('./submission_fold_total.csv')"
   ],
   "outputs": [],
   "metadata": {}
  },
  {
   "cell_type": "code",
   "execution_count": 17,
   "source": [
    "diff = pd.concat({'answer': answer['pred_label'], 'my': my['pred_label']}, axis=1)\n",
    "print(diff)"
   ],
   "outputs": [
    {
     "output_type": "stream",
     "name": "stdout",
     "text": [
      "                         answer                         my\n",
      "0                   org:product                org:members\n",
      "1           per:alternate_names        per:alternate_names\n",
      "2                   no_relation                no_relation\n",
      "3                   no_relation                no_relation\n",
      "4                   no_relation                no_relation\n",
      "...                         ...                        ...\n",
      "7760  org:place_of_headquarters  org:place_of_headquarters\n",
      "7761                no_relation                no_relation\n",
      "7762  org:top_members/employees  org:top_members/employees\n",
      "7763                no_relation                no_relation\n",
      "7764                no_relation                no_relation\n",
      "\n",
      "[7765 rows x 2 columns]\n"
     ]
    }
   ],
   "metadata": {}
  },
  {
   "cell_type": "code",
   "execution_count": 18,
   "source": [
    "len(diff[diff['answer'] != diff['my']])"
   ],
   "outputs": [
    {
     "output_type": "execute_result",
     "data": {
      "text/plain": [
       "374"
      ]
     },
     "metadata": {},
     "execution_count": 18
    }
   ],
   "metadata": {}
  },
  {
   "cell_type": "code",
   "execution_count": null,
   "source": [],
   "outputs": [],
   "metadata": {}
  }
 ],
 "metadata": {
  "orig_nbformat": 4,
  "kernelspec": {
   "name": "python3",
   "display_name": "Python 3",
   "language": "python"
  },
  "language_info": {
   "name": "python",
   "version": "3.8.11",
   "mimetype": "text/x-python",
   "codemirror_mode": {
    "name": "ipython",
    "version": 3
   },
   "pygments_lexer": "ipython3",
   "nbconvert_exporter": "python",
   "file_extension": ".py"
  }
 },
 "nbformat": 4,
 "nbformat_minor": 2
}