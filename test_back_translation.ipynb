{
 "cells": [
  {
   "cell_type": "code",
   "execution_count": 2,
   "source": [
    "import selenium\n",
    "from selenium import webdriver\n",
    "from selenium.webdriver.common.by import By\n",
    "from selenium.webdriver.support.ui import WebDriverWait\n",
    "from selenium.webdriver.support import expected_conditions as EC\n",
    "from tqdm.auto import tqdm\n",
    "import time\n",
    "import numpy as np\n",
    "import pandas as pd\n",
    "\n",
    "data_path = '.'\n",
    "\n"
   ],
   "outputs": [],
   "metadata": {
    "collapsed": true
   }
  },
  {
   "cell_type": "code",
   "execution_count": null,
   "source": [
    "kor_trans_list"
   ],
   "outputs": [],
   "metadata": {}
  },
  {
   "cell_type": "code",
   "execution_count": 25,
   "source": [
    "data_kor_to_eng_pd = pd.read_csv('back_translation_result.csv')\n",
    "data_kor_to_eng_pd"
   ],
   "outputs": [
    {
     "output_type": "execute_result",
     "data": {
      "text/html": [
       "<div>\n",
       "<style scoped>\n",
       "    .dataframe tbody tr th:only-of-type {\n",
       "        vertical-align: middle;\n",
       "    }\n",
       "\n",
       "    .dataframe tbody tr th {\n",
       "        vertical-align: top;\n",
       "    }\n",
       "\n",
       "    .dataframe thead th {\n",
       "        text-align: right;\n",
       "    }\n",
       "</style>\n",
       "<table border=\"1\" class=\"dataframe\">\n",
       "  <thead>\n",
       "    <tr style=\"text-align: right;\">\n",
       "      <th></th>\n",
       "      <th>Unnamed: 0</th>\n",
       "      <th>kor_to_en</th>\n",
       "      <th>en_to_kor</th>\n",
       "      <th>origin_text</th>\n",
       "    </tr>\n",
       "  </thead>\n",
       "  <tbody>\n",
       "    <tr>\n",
       "      <th>0</th>\n",
       "      <td>0</td>\n",
       "      <td>\"Something\" is a song written by George Harris...</td>\n",
       "      <td>\"Something\"은 조지 해리슨이 작곡하고 비틀즈의 1969년 앨범 \"Abbey...</td>\n",
       "      <td>〈Something〉는 조지 해리슨이 쓰고 비틀즈가 1969년 앨범 《Abbey R...</td>\n",
       "    </tr>\n",
       "    <tr>\n",
       "      <th>1</th>\n",
       "      <td>1</td>\n",
       "      <td>The Bareunmirae Party, the New Alternative Par...</td>\n",
       "      <td>호남을 기반으로 한 미래당과 대안신당, 민주평화당이 우여곡절 끝에 민생당(가칭)으로...</td>\n",
       "      <td>호남이 기반인 바른미래당·대안신당·민주평화당이 우여곡절 끝에 합당해 민생당(가칭)으...</td>\n",
       "    </tr>\n",
       "    <tr>\n",
       "      <th>2</th>\n",
       "      <td>2</td>\n",
       "      <td>Gwangju FC, which ranks first in the K League ...</td>\n",
       "      <td>K리그2 1위 광주FC가 26일 한국프로축구연맹의 관중 유치와 마케팅 성과를 인정받...</td>\n",
       "      <td>K리그2에서 성적 1위를 달리고 있는 광주FC는 지난 26일 한국프로축구연맹으로부터...</td>\n",
       "    </tr>\n",
       "    <tr>\n",
       "      <th>3</th>\n",
       "      <td>3</td>\n",
       "      <td>Asung Daiso Co., Ltd., a uniform price househo...</td>\n",
       "      <td>균일가 생활용품 판매점 아성다이소(주)가 COVID-19 바이러스로 몸살을 앓고 있...</td>\n",
       "      <td>균일가 생활용품점 (주)아성다이소(대표 박정부)는 코로나19 바이러스로 어려움을 겪...</td>\n",
       "    </tr>\n",
       "  </tbody>\n",
       "</table>\n",
       "</div>"
      ],
      "text/plain": [
       "   Unnamed: 0                                          kor_to_en  \\\n",
       "0           0  \"Something\" is a song written by George Harris...   \n",
       "1           1  The Bareunmirae Party, the New Alternative Par...   \n",
       "2           2  Gwangju FC, which ranks first in the K League ...   \n",
       "3           3  Asung Daiso Co., Ltd., a uniform price househo...   \n",
       "\n",
       "                                           en_to_kor  \\\n",
       "0  \"Something\"은 조지 해리슨이 작곡하고 비틀즈의 1969년 앨범 \"Abbey...   \n",
       "1  호남을 기반으로 한 미래당과 대안신당, 민주평화당이 우여곡절 끝에 민생당(가칭)으로...   \n",
       "2  K리그2 1위 광주FC가 26일 한국프로축구연맹의 관중 유치와 마케팅 성과를 인정받...   \n",
       "3  균일가 생활용품 판매점 아성다이소(주)가 COVID-19 바이러스로 몸살을 앓고 있...   \n",
       "\n",
       "                                         origin_text  \n",
       "0  〈Something〉는 조지 해리슨이 쓰고 비틀즈가 1969년 앨범 《Abbey R...  \n",
       "1  호남이 기반인 바른미래당·대안신당·민주평화당이 우여곡절 끝에 합당해 민생당(가칭)으...  \n",
       "2  K리그2에서 성적 1위를 달리고 있는 광주FC는 지난 26일 한국프로축구연맹으로부터...  \n",
       "3  균일가 생활용품점 (주)아성다이소(대표 박정부)는 코로나19 바이러스로 어려움을 겪...  "
      ]
     },
     "metadata": {},
     "execution_count": 25
    }
   ],
   "metadata": {}
  },
  {
   "cell_type": "code",
   "execution_count": 3,
   "source": [
    "def chrome_setting():\n",
    "  chrome_options = webdriver.ChromeOptions()\n",
    "  chrome_options.add_argument('--headless')\n",
    "  chrome_options.add_argument('--no-sandbox')\n",
    "  chrome_options.add_argument('--disable-dev-shm-usage')\n",
    "  driver = webdriver.Chrome('chromedriver', options=chrome_options)\n",
    "  return driver\n",
    "driver=chrome_setting()"
   ],
   "outputs": [],
   "metadata": {}
  },
  {
   "cell_type": "code",
   "execution_count": 4,
   "source": [
    "trans_list = []"
   ],
   "outputs": [],
   "metadata": {}
  },
  {
   "cell_type": "code",
   "execution_count": 67,
   "source": [
    "from load_data import *\n",
    "df = load_data('../dataset/train/train.csv')\n",
    "df['sentence']"
   ],
   "outputs": [
    {
     "output_type": "execute_result",
     "data": {
      "text/plain": [
       "0        〈Something〉는 조지 해리슨이 쓰고 비틀즈가 1969년 앨범 《Abbey R...\n",
       "1        호남이 기반인 바른미래당·대안신당·민주평화당이 우여곡절 끝에 합당해 민생당(가칭)으...\n",
       "2        K리그2에서 성적 1위를 달리고 있는 광주FC는 지난 26일 한국프로축구연맹으로부터...\n",
       "3        균일가 생활용품점 (주)아성다이소(대표 박정부)는 코로나19 바이러스로 어려움을 겪...\n",
       "4        1967년 프로 야구 드래프트 1순위로 요미우리 자이언츠에게 입단하면서 등번호는 8...\n",
       "                               ...                        \n",
       "32465    한국당은 7일 오전 9시부터 오후 5시까지 진행된 원내대표 및 정책위의장 후보자 등...\n",
       "32466    법포는 다시 최시형, 서병학, 손병희 직계인 북접과 다시 서장옥, 전봉준, 김개남을...\n",
       "32467    완도군(군수 신우철)이 국토교통부에서 실시한 '2019 교통문화지수 실태조사'에서 ...\n",
       "32468    중앙일보, JTBC 회장을 지낸 이후 중앙홀딩스 회장, 재단법인 한반도평화만들기 이...\n",
       "32469    화순군(군수 구충곤)은 17일 동면의 이장 20여 명이 코로나 19 예방을 위해 버...\n",
       "Name: sentence, Length: 32470, dtype: object"
      ]
     },
     "metadata": {},
     "execution_count": 67
    }
   ],
   "metadata": {}
  },
  {
   "cell_type": "code",
   "execution_count": 77,
   "source": [
    "from urllib.request import urlopen\n",
    "import json\n",
    "# Crawling\n",
    "def kor_to_trans(text_data, trans_lang,start_index,final_index):\n",
    "\n",
    "  target_present = EC.presence_of_element_located((By.XPATH, '//*[@id=\"txtTarget\"]'))\n",
    "\n",
    "  for i in tqdm(range(start_index,final_index)): \n",
    "    \n",
    "    if (i!=0)&(i%99==0):\n",
    "      time.sleep(2)\n",
    "      print('{}th : '.format(i), backtrans)\n",
    "      np.save(data_path+'kor_to_eng_train_{}_{}.npy'.format(start_index,final_index),trans_list)\n",
    "    \n",
    "    try:\n",
    "      query = 'https://papago.naver.com/?sk=ko&tk='+trans_lang+'&st=\"' + text_data[i] + '\"'\n",
    "      print(query)\n",
    "      driver.get(query)\n",
    "      time.sleep(1.5)\n",
    "      element=WebDriverWait(driver, 10).until(target_present)\n",
    "      time.sleep(1.5)\n",
    "      backtrans = element.text \n",
    "      print(f'element text{element.text}')\n",
    "\n",
    "      if (backtrans=='')|(backtrans==' '):\n",
    "        element=WebDriverWait(driver, 10).until(target_present)\n",
    "        backtrans = element.text \n",
    "        trans_list.append(backtrans)\n",
    "      else:\n",
    "        trans_list.append(backtrans)\n",
    "    \n",
    "    except BaseException as e:\n",
    "      print(e)\n",
    "      page = urlopen(query)\n",
    "      # bytes to string\n",
    "      doc = page.read().decode('utf-8')\n",
    "      # string to dictionary\n",
    "      dic = json.loads(doc)\n",
    "      result_dict = dic['result']['trades']\n",
    "      trans_list.append('')"
   ],
   "outputs": [],
   "metadata": {}
  },
  {
   "cell_type": "code",
   "execution_count": 78,
   "source": [
    "stop_words = ['〈', '〉', '(', ')', '<', '>', \"《\", '》']\n",
    "def remove_stop_words(s):\n",
    "    for w in stop_words:\n",
    "        s = s.replace(w, '')\n",
    "        ''.join(s)\n",
    "    return s"
   ],
   "outputs": [],
   "metadata": {}
  },
  {
   "cell_type": "code",
   "execution_count": 79,
   "source": [
    "trans_list = []\n",
    "test_sentence = [remove_stop_words(df.loc[0, 'sentence'])]\n",
    "print(test_sentence)\n",
    "kor_to_trans(test_sentence, 'en', 0, 1)"
   ],
   "outputs": [
    {
     "output_type": "stream",
     "name": "stdout",
     "text": [
      "['Something는 조지 해리슨이 쓰고 비틀즈가 1969년 앨범 Abbey Road에 담은 노래다.']\n"
     ]
    },
    {
     "output_type": "display_data",
     "data": {
      "application/vnd.jupyter.widget-view+json": {
       "version_major": 2,
       "version_minor": 0,
       "model_id": "c49992b26cc14bd0a0f7ce7cd4f13bd0"
      },
      "text/plain": [
       "  0%|          | 0/1 [00:00<?, ?it/s]"
      ]
     },
     "metadata": {}
    },
    {
     "output_type": "stream",
     "name": "stdout",
     "text": [
      "https://papago.naver.com/?sk=ko&tk=en&st=\"Something는 조지 해리슨이 쓰고 비틀즈가 1969년 앨범 Abbey Road에 담은 노래다.\"\n",
      "HTTPConnectionPool(host='127.0.0.1', port=43698): Max retries exceeded with url: /session/826e451add93e99cc37184cf9adbb3df/url (Caused by NewConnectionError('<urllib3.connection.HTTPConnection object at 0x7f819ac75e80>: Failed to establish a new connection: [Errno 111] Connection refused'))\n"
     ]
    }
   ],
   "metadata": {}
  },
  {
   "cell_type": "code",
   "execution_count": 70,
   "source": [
    "print(trans_list)\n",
    "print(' '.join(trans_list))"
   ],
   "outputs": [
    {
     "output_type": "stream",
     "name": "stdout",
     "text": [
      "['']\n",
      "\n"
     ]
    }
   ],
   "metadata": {}
  },
  {
   "cell_type": "code",
   "execution_count": 12,
   "source": [
    "kor_trans_list = np.load('./kor_to_eng_final.npy')\n",
    "print(kor_trans_list.size)\n",
    "\n",
    "\n",
    "en_trans_list = np.load('./en_to_kor_final.npy')\n",
    "print(en_trans_list.size)\n",
    "en_trans_list[:2]"
   ],
   "outputs": [
    {
     "output_type": "stream",
     "name": "stdout",
     "text": [
      "31903\n",
      "31890\n"
     ]
    },
    {
     "output_type": "execute_result",
     "data": {
      "text/plain": [
       "array(['\"Something\"은 조지 해리슨이 작곡하고 비틀즈의 1969년 앨범 \"Abbey Road\"에 수록된 곡이다.',\n",
       "       '호남을 기반으로 한 미래당과 대안신당, 민주평화당이 우여곡절 끝에 민생당(가칭)으로 거듭난다.'],\n",
       "      dtype='<U391')"
      ]
     },
     "metadata": {},
     "execution_count": 12
    }
   ],
   "metadata": {}
  },
  {
   "cell_type": "code",
   "execution_count": 14,
   "source": [
    "with open('en_to_kor_final.txt', 'w', encoding='utf-8-sig') as f:\n",
    "    for s in en_trans_list:\n",
    "        f.write(f'{s}\\n')"
   ],
   "outputs": [],
   "metadata": {}
  }
 ],
 "metadata": {
  "kernelspec": {
   "name": "python3",
   "display_name": "Python 3.8.5 64-bit ('base': conda)"
  },
  "language_info": {
   "name": "python",
   "version": "3.8.5",
   "mimetype": "text/x-python",
   "codemirror_mode": {
    "name": "ipython",
    "version": 3
   },
   "pygments_lexer": "ipython3",
   "nbconvert_exporter": "python",
   "file_extension": ".py"
  },
  "interpreter": {
   "hash": "98b0a9b7b4eaaa670588a142fd0a9b87eaafe866f1db4228be72b4211d12040f"
  }
 },
 "nbformat": 4,
 "nbformat_minor": 2
}