{
 "cells": [
  {
   "cell_type": "code",
   "execution_count": 2,
   "source": [
    "import selenium\n",
    "from selenium import webdriver\n",
    "from selenium.webdriver.common.by import By\n",
    "from selenium.webdriver.support.ui import WebDriverWait\n",
    "from selenium.webdriver.support import expected_conditions as EC\n",
    "from tqdm.auto import tqdm\n",
    "import time\n",
    "import numpy as np\n",
    "\n",
    "data_path = '.'\n",
    "\n"
   ],
   "outputs": [],
   "metadata": {
    "collapsed": true
   }
  },
  {
   "cell_type": "code",
   "execution_count": 3,
   "source": [
    "def chrome_setting():\n",
    "  chrome_options = webdriver.ChromeOptions()\n",
    "  chrome_options.add_argument('--headless')\n",
    "  chrome_options.add_argument('--no-sandbox')\n",
    "  chrome_options.add_argument('--disable-dev-shm-usage')\n",
    "  driver = webdriver.Chrome('chromedriver', options=chrome_options)\n",
    "  return driver\n",
    "driver=chrome_setting()"
   ],
   "outputs": [],
   "metadata": {}
  },
  {
   "cell_type": "code",
   "execution_count": 4,
   "source": [
    "trans_list = []"
   ],
   "outputs": [],
   "metadata": {}
  },
  {
   "cell_type": "code",
   "execution_count": 67,
   "source": [
    "from load_data import *\n",
    "df = load_data('../dataset/train/train.csv')\n",
    "df['sentence']"
   ],
   "outputs": [
    {
     "output_type": "execute_result",
     "data": {
      "text/plain": [
       "0        〈Something〉는 조지 해리슨이 쓰고 비틀즈가 1969년 앨범 《Abbey R...\n",
       "1        호남이 기반인 바른미래당·대안신당·민주평화당이 우여곡절 끝에 합당해 민생당(가칭)으...\n",
       "2        K리그2에서 성적 1위를 달리고 있는 광주FC는 지난 26일 한국프로축구연맹으로부터...\n",
       "3        균일가 생활용품점 (주)아성다이소(대표 박정부)는 코로나19 바이러스로 어려움을 겪...\n",
       "4        1967년 프로 야구 드래프트 1순위로 요미우리 자이언츠에게 입단하면서 등번호는 8...\n",
       "                               ...                        \n",
       "32465    한국당은 7일 오전 9시부터 오후 5시까지 진행된 원내대표 및 정책위의장 후보자 등...\n",
       "32466    법포는 다시 최시형, 서병학, 손병희 직계인 북접과 다시 서장옥, 전봉준, 김개남을...\n",
       "32467    완도군(군수 신우철)이 국토교통부에서 실시한 '2019 교통문화지수 실태조사'에서 ...\n",
       "32468    중앙일보, JTBC 회장을 지낸 이후 중앙홀딩스 회장, 재단법인 한반도평화만들기 이...\n",
       "32469    화순군(군수 구충곤)은 17일 동면의 이장 20여 명이 코로나 19 예방을 위해 버...\n",
       "Name: sentence, Length: 32470, dtype: object"
      ]
     },
     "metadata": {},
     "execution_count": 67
    }
   ],
   "metadata": {}
  },
  {
   "cell_type": "code",
   "execution_count": 77,
   "source": [
    "from urllib.request import urlopen\n",
    "import json\n",
    "# Crawling\n",
    "def kor_to_trans(text_data, trans_lang,start_index,final_index):\n",
    "\n",
    "  target_present = EC.presence_of_element_located((By.XPATH, '//*[@id=\"txtTarget\"]'))\n",
    "\n",
    "  for i in tqdm(range(start_index,final_index)): \n",
    "    \n",
    "    if (i!=0)&(i%99==0):\n",
    "      time.sleep(2)\n",
    "      print('{}th : '.format(i), backtrans)\n",
    "      np.save(data_path+'kor_to_eng_train_{}_{}.npy'.format(start_index,final_index),trans_list)\n",
    "    \n",
    "    try:\n",
    "      query = 'https://papago.naver.com/?sk=ko&tk='+trans_lang+'&st=\"' + text_data[i] + '\"'\n",
    "      print(query)\n",
    "      driver.get(query)\n",
    "      time.sleep(1.5)\n",
    "      element=WebDriverWait(driver, 10).until(target_present)\n",
    "      time.sleep(1.5)\n",
    "      backtrans = element.text \n",
    "      print(f'element text{element.text}')\n",
    "\n",
    "      if (backtrans=='')|(backtrans==' '):\n",
    "        element=WebDriverWait(driver, 10).until(target_present)\n",
    "        backtrans = element.text \n",
    "        trans_list.append(backtrans)\n",
    "      else:\n",
    "        trans_list.append(backtrans)\n",
    "    \n",
    "    except BaseException as e:\n",
    "      print(e)\n",
    "      page = urlopen(query)\n",
    "      # bytes to string\n",
    "      doc = page.read().decode('utf-8')\n",
    "      # string to dictionary\n",
    "      dic = json.loads(doc)\n",
    "      result_dict = dic['result']['trades']\n",
    "      trans_list.append('')"
   ],
   "outputs": [],
   "metadata": {}
  },
  {
   "cell_type": "code",
   "execution_count": 78,
   "source": [
    "stop_words = ['〈', '〉', '(', ')', '<', '>', \"《\", '》']\n",
    "def remove_stop_words(s):\n",
    "    for w in stop_words:\n",
    "        s = s.replace(w, '')\n",
    "        ''.join(s)\n",
    "    return s"
   ],
   "outputs": [],
   "metadata": {}
  },
  {
   "cell_type": "code",
   "execution_count": 79,
   "source": [
    "trans_list = []\n",
    "test_sentence = [remove_stop_words(df.loc[0, 'sentence'])]\n",
    "print(test_sentence)\n",
    "kor_to_trans(test_sentence, 'en', 0, 1)"
   ],
   "outputs": [
    {
     "output_type": "stream",
     "name": "stdout",
     "text": [
      "['Something는 조지 해리슨이 쓰고 비틀즈가 1969년 앨범 Abbey Road에 담은 노래다.']\n"
     ]
    },
    {
     "output_type": "display_data",
     "data": {
      "application/vnd.jupyter.widget-view+json": {
       "version_major": 2,
       "version_minor": 0,
       "model_id": "c49992b26cc14bd0a0f7ce7cd4f13bd0"
      },
      "text/plain": [
       "  0%|          | 0/1 [00:00<?, ?it/s]"
      ]
     },
     "metadata": {}
    },
    {
     "output_type": "stream",
     "name": "stdout",
     "text": [
      "https://papago.naver.com/?sk=ko&tk=en&st=\"Something는 조지 해리슨이 쓰고 비틀즈가 1969년 앨범 Abbey Road에 담은 노래다.\"\n",
      "HTTPConnectionPool(host='127.0.0.1', port=43698): Max retries exceeded with url: /session/826e451add93e99cc37184cf9adbb3df/url (Caused by NewConnectionError('<urllib3.connection.HTTPConnection object at 0x7f819ac75e80>: Failed to establish a new connection: [Errno 111] Connection refused'))\n"
     ]
    }
   ],
   "metadata": {}
  },
  {
   "cell_type": "code",
   "execution_count": 70,
   "source": [
    "print(trans_list)\n",
    "print(' '.join(trans_list))"
   ],
   "outputs": [
    {
     "output_type": "stream",
     "name": "stdout",
     "text": [
      "['']\n",
      "\n"
     ]
    }
   ],
   "metadata": {}
  },
  {
   "cell_type": "code",
   "execution_count": null,
   "source": [
    "trans_list=[]\n",
    "kor_to_trans(train['title'], 'en',0,10000)\n",
    "np.save(data_path+'kor_to_eng_train_0_10000.npy',trans_list)\n",
    "\n",
    "trans_list=[]\n",
    "kor_to_trans(train['title'], 'en',10000,20000)\n",
    "np.save(data_path+'kor_to_eng_train_10000_20000.npy',trans_list)\n",
    "\n",
    "trans_list=[]\n",
    "kor_to_trans(train['title'], 'en',20000,30000)\n",
    "np.save(data_path+'kor_to_eng_train_20000_30000.npy',trans_list)\n",
    "\n",
    "trans_list=[]\n",
    "kor_to_trans(train['title'], 'en',30000,40000)\n",
    "np.save(data_path+'kor_to_eng_train_30000_40000.npy',trans_list)\n",
    "\n",
    "trans_list=[]\n",
    "kor_to_trans(train['title'], 'en',40000,len(train))\n",
    "np.save(data_path+'kor_to_eng_train_40000_all.npy',trans_list)"
   ],
   "outputs": [],
   "metadata": {}
  },
  {
   "cell_type": "code",
   "execution_count": null,
   "source": [
    "eng_data0=np.load(data_path+'kor_to_eng_train_0_10000.npy')\n",
    "eng_data1=np.load(data_path+'kor_to_eng_train_10000_20000.npy')\n",
    "eng_data2=np.load(data_path+'kor_to_eng_train_20000_30000.npy')\n",
    "eng_data3=np.load(data_path+'kor_to_eng_train_30000_40000.npy')\n",
    "eng_data4=np.load(data_path+'kor_to_eng_train_40000_all.npy')\n",
    "\n",
    "eng_data=[*eng_data0,*eng_data1,*eng_data2,*eng_data3,*eng_data4]\n",
    "eng_data=pd.DataFrame(eng_data,columns=['eng_title'])"
   ],
   "outputs": [],
   "metadata": {}
  },
  {
   "cell_type": "code",
   "execution_count": null,
   "source": [
    "back_train=pd.concat([train,eng_data],axis=1)\n",
    "back_train\n"
   ],
   "outputs": [],
   "metadata": {}
  }
 ],
 "metadata": {
  "kernelspec": {
   "name": "python3",
   "display_name": "Python 3.8.11 64-bit ('torch': conda)"
  },
  "language_info": {
   "name": "python",
   "version": "3.8.11",
   "mimetype": "text/x-python",
   "codemirror_mode": {
    "name": "ipython",
    "version": 3
   },
   "pygments_lexer": "ipython3",
   "nbconvert_exporter": "python",
   "file_extension": ".py"
  },
  "interpreter": {
   "hash": "2e5f2bf85d713cf69d9c9205d006287a7870eb41c526ebe7a840b41056c8efbb"
  }
 },
 "nbformat": 4,
 "nbformat_minor": 2
}