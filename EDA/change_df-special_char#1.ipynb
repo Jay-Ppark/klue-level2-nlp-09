{
 "cells": [
  {
   "cell_type": "code",
   "execution_count": 1,
   "id": "1e2b347e",
   "metadata": {},
   "outputs": [],
   "source": [
    "import pandas as pd\n",
    "import matplotlib.pyplot as plt\n",
    "import seaborn as sns\n",
    "import numpy as np\n",
    "import re\n",
    "import warnings\n",
    "warnings.filterwarnings(action='ignore')\n"
   ]
  },
  {
   "cell_type": "code",
   "execution_count": 2,
   "id": "5a85c203",
   "metadata": {},
   "outputs": [],
   "source": [
    "train_df = pd.read_csv('./dataset/train/train_revised.csv')\n",
    "test_df = pd.read_csv('./dataset/test/test_data.csv')"
   ]
  },
  {
   "cell_type": "code",
   "execution_count": 3,
   "id": "16530547",
   "metadata": {},
   "outputs": [],
   "source": [
    "train_df_copy = train_df.copy()\n",
    "test_df_copy = test_df.copy()"
   ]
  },
  {
   "cell_type": "code",
   "execution_count": 4,
   "id": "c4f9bb21",
   "metadata": {},
   "outputs": [
    {
     "data": {
      "text/html": [
       "<div>\n",
       "<style scoped>\n",
       "    .dataframe tbody tr th:only-of-type {\n",
       "        vertical-align: middle;\n",
       "    }\n",
       "\n",
       "    .dataframe tbody tr th {\n",
       "        vertical-align: top;\n",
       "    }\n",
       "\n",
       "    .dataframe thead th {\n",
       "        text-align: right;\n",
       "    }\n",
       "</style>\n",
       "<table border=\"1\" class=\"dataframe\">\n",
       "  <thead>\n",
       "    <tr style=\"text-align: right;\">\n",
       "      <th></th>\n",
       "      <th>Unnamed: 0</th>\n",
       "      <th>id</th>\n",
       "      <th>sentence</th>\n",
       "      <th>subject_entity</th>\n",
       "      <th>object_entity</th>\n",
       "      <th>label</th>\n",
       "      <th>source</th>\n",
       "    </tr>\n",
       "  </thead>\n",
       "  <tbody>\n",
       "    <tr>\n",
       "      <th>0</th>\n",
       "      <td>0</td>\n",
       "      <td>0</td>\n",
       "      <td>〈Something〉는 조지 해리슨이 쓰고 비틀즈가 1969년 앨범 《Abbey R...</td>\n",
       "      <td>{'word': '비틀즈', 'start_idx': 24, 'end_idx': 26...</td>\n",
       "      <td>{'word': '조지 해리슨', 'start_idx': 13, 'end_idx':...</td>\n",
       "      <td>no_relation</td>\n",
       "      <td>wikipedia</td>\n",
       "    </tr>\n",
       "    <tr>\n",
       "      <th>1</th>\n",
       "      <td>1</td>\n",
       "      <td>1</td>\n",
       "      <td>호남이 기반인 바른미래당·대안신당·민주평화당이 우여곡절 끝에 합당해 민생당(가칭)으...</td>\n",
       "      <td>{'word': '민주평화당', 'start_idx': 19, 'end_idx': ...</td>\n",
       "      <td>{'word': '대안신당', 'start_idx': 14, 'end_idx': 1...</td>\n",
       "      <td>no_relation</td>\n",
       "      <td>wikitree</td>\n",
       "    </tr>\n",
       "    <tr>\n",
       "      <th>2</th>\n",
       "      <td>2</td>\n",
       "      <td>2</td>\n",
       "      <td>K리그2에서 성적 1위를 달리고 있는 광주FC는 지난 26일 한국프로축구연맹으로부터...</td>\n",
       "      <td>{'word': '광주FC', 'start_idx': 21, 'end_idx': 2...</td>\n",
       "      <td>{'word': '한국프로축구연맹', 'start_idx': 34, 'end_idx...</td>\n",
       "      <td>org:member_of</td>\n",
       "      <td>wikitree</td>\n",
       "    </tr>\n",
       "  </tbody>\n",
       "</table>\n",
       "</div>"
      ],
      "text/plain": [
       "   Unnamed: 0  id                                           sentence  \\\n",
       "0           0   0  〈Something〉는 조지 해리슨이 쓰고 비틀즈가 1969년 앨범 《Abbey R...   \n",
       "1           1   1  호남이 기반인 바른미래당·대안신당·민주평화당이 우여곡절 끝에 합당해 민생당(가칭)으...   \n",
       "2           2   2  K리그2에서 성적 1위를 달리고 있는 광주FC는 지난 26일 한국프로축구연맹으로부터...   \n",
       "\n",
       "                                      subject_entity  \\\n",
       "0  {'word': '비틀즈', 'start_idx': 24, 'end_idx': 26...   \n",
       "1  {'word': '민주평화당', 'start_idx': 19, 'end_idx': ...   \n",
       "2  {'word': '광주FC', 'start_idx': 21, 'end_idx': 2...   \n",
       "\n",
       "                                       object_entity          label     source  \n",
       "0  {'word': '조지 해리슨', 'start_idx': 13, 'end_idx':...    no_relation  wikipedia  \n",
       "1  {'word': '대안신당', 'start_idx': 14, 'end_idx': 1...    no_relation   wikitree  \n",
       "2  {'word': '한국프로축구연맹', 'start_idx': 34, 'end_idx...  org:member_of   wikitree  "
      ]
     },
     "execution_count": 4,
     "metadata": {},
     "output_type": "execute_result"
    }
   ],
   "source": [
    "train_df_copy.head(3)"
   ]
  },
  {
   "cell_type": "code",
   "execution_count": 5,
   "id": "324e5502",
   "metadata": {},
   "outputs": [
    {
     "data": {
      "text/html": [
       "<div>\n",
       "<style scoped>\n",
       "    .dataframe tbody tr th:only-of-type {\n",
       "        vertical-align: middle;\n",
       "    }\n",
       "\n",
       "    .dataframe tbody tr th {\n",
       "        vertical-align: top;\n",
       "    }\n",
       "\n",
       "    .dataframe thead th {\n",
       "        text-align: right;\n",
       "    }\n",
       "</style>\n",
       "<table border=\"1\" class=\"dataframe\">\n",
       "  <thead>\n",
       "    <tr style=\"text-align: right;\">\n",
       "      <th></th>\n",
       "      <th>id</th>\n",
       "      <th>sentence</th>\n",
       "      <th>subject_entity</th>\n",
       "      <th>object_entity</th>\n",
       "      <th>label</th>\n",
       "      <th>source</th>\n",
       "    </tr>\n",
       "  </thead>\n",
       "  <tbody>\n",
       "    <tr>\n",
       "      <th>0</th>\n",
       "      <td>0</td>\n",
       "      <td>지난 15일 MBC '탐사기획 스트레이트'가 이 사실을 보도했다.</td>\n",
       "      <td>{'word': 'MBC', 'start_idx': 7, 'end_idx': 9, ...</td>\n",
       "      <td>{'word': '탐사기획 스트레이트', 'start_idx': 12, 'end_i...</td>\n",
       "      <td>100</td>\n",
       "      <td>wikitree</td>\n",
       "    </tr>\n",
       "    <tr>\n",
       "      <th>1</th>\n",
       "      <td>1</td>\n",
       "      <td>사랑스러운 ‘프린세스 프링’의 이름은 봄의 공주님: Princess(s)Pring이...</td>\n",
       "      <td>{'word': '프린세스 프링', 'start_idx': 7, 'end_idx':...</td>\n",
       "      <td>{'word': '공주', 'start_idx': 84, 'end_idx': 85,...</td>\n",
       "      <td>100</td>\n",
       "      <td>wikipedia</td>\n",
       "    </tr>\n",
       "    <tr>\n",
       "      <th>2</th>\n",
       "      <td>2</td>\n",
       "      <td>한편, 본인(이근안)을 모델로 한 MBC 특집드라마 가 1995년 6.25 특집극으...</td>\n",
       "      <td>{'word': '경찰', 'start_idx': 121, 'end_idx': 12...</td>\n",
       "      <td>{'word': '1995년', 'start_idx': 31, 'end_idx': ...</td>\n",
       "      <td>100</td>\n",
       "      <td>wikipedia</td>\n",
       "    </tr>\n",
       "  </tbody>\n",
       "</table>\n",
       "</div>"
      ],
      "text/plain": [
       "   id                                           sentence  \\\n",
       "0   0               지난 15일 MBC '탐사기획 스트레이트'가 이 사실을 보도했다.   \n",
       "1   1  사랑스러운 ‘프린세스 프링’의 이름은 봄의 공주님: Princess(s)Pring이...   \n",
       "2   2  한편, 본인(이근안)을 모델로 한 MBC 특집드라마 가 1995년 6.25 특집극으...   \n",
       "\n",
       "                                      subject_entity  \\\n",
       "0  {'word': 'MBC', 'start_idx': 7, 'end_idx': 9, ...   \n",
       "1  {'word': '프린세스 프링', 'start_idx': 7, 'end_idx':...   \n",
       "2  {'word': '경찰', 'start_idx': 121, 'end_idx': 12...   \n",
       "\n",
       "                                       object_entity  label     source  \n",
       "0  {'word': '탐사기획 스트레이트', 'start_idx': 12, 'end_i...    100   wikitree  \n",
       "1  {'word': '공주', 'start_idx': 84, 'end_idx': 85,...    100  wikipedia  \n",
       "2  {'word': '1995년', 'start_idx': 31, 'end_idx': ...    100  wikipedia  "
      ]
     },
     "execution_count": 5,
     "metadata": {},
     "output_type": "execute_result"
    }
   ],
   "source": [
    "test_df_copy.head(3)"
   ]
  },
  {
   "cell_type": "code",
   "execution_count": 6,
   "id": "20897d79",
   "metadata": {},
   "outputs": [],
   "source": [
    "# 특수문자 있는 것 찾기\n",
    "def find_sc(df,find):\n",
    "    for i in range(len(df)):\n",
    "        if find in df['sentence'][i]:\n",
    "            print(df['sentence'][i])\n",
    "            \n",
    "def find_entity(df,find,entity):\n",
    "    for i in range(len(df)):\n",
    "        try:\n",
    "            if find in df[entity][i].split('\\', \\'start_idx')[0].split('word\\': \\'')[1]:\n",
    "                print(find,i,\": \",df[entity][i])\n",
    "        except:\n",
    "            try:\n",
    "                if find in df[entity][i].split('\\\", \\'start_idx')[0].split('word\\': \\\"')[1]:\n",
    "                    print(find,i,\": \",df[entity][i])\n",
    "            except:\n",
    "                print('!!error!!!!!!!',find,i,\": \",df[entity][i])"
   ]
  },
  {
   "cell_type": "code",
   "execution_count": 7,
   "id": "94cb8776",
   "metadata": {},
   "outputs": [],
   "source": [
    "# 문장 변경\n",
    "def change_sc(df,find,new):\n",
    "    for i in range(len(df)):\n",
    "        if find in df['sentence'][i]:\n",
    "            df['sentence'][i] = df['sentence'][i].replace(find,new)"
   ]
  },
  {
   "cell_type": "code",
   "execution_count": 8,
   "id": "6054489d",
   "metadata": {},
   "outputs": [],
   "source": [
    "# 토큰 변경\n",
    "def change_entity(df,find,new,entity):\n",
    "    for i in range(len(df)):\n",
    "        if find in df[entity][i]:\n",
    "            df[entity][i] = df[entity][i].replace(find,new)"
   ]
  },
  {
   "cell_type": "code",
   "execution_count": 9,
   "id": "b37389f5",
   "metadata": {},
   "outputs": [],
   "source": [
    "# start_idx, end_idx이 잘 매치되었는지 체크\n",
    "def check_idx(df,entity):\n",
    "    idx_list =[]\n",
    "    for i in range(len(df)):\n",
    "        start_idx = int(df[entity][i].split(', \\'end_idx')[0].split('start_idx\\': ')[-1])\n",
    "        end_idx = int(df[entity][i].split(', \\'end_idx\\': ')[1].split(', \\'type')[0])\n",
    "        try:\n",
    "            word = df[entity][i].split('\\', \\'start_idx')[0].split('word\\': \\'')[1]\n",
    "        except:\n",
    "            try:\n",
    "                word = df[entity][i].split('\\\", \\'start_idx')[0].split('word\\': \\\"')[1]\n",
    "            except:\n",
    "                print('!!error!!!!!!!',df['sentence'][i],i,\": \",df[entity][i])\n",
    "                \n",
    "        if df['sentence'][i][start_idx:end_idx+1] != word:\n",
    "            print(f\"{i}: {df['id'][i]}, {df['sentence'][i][start_idx:end_idx+1]}, {word}\")\n",
    "            idx_list.append(i)\n",
    "    return idx_list"
   ]
  },
  {
   "cell_type": "code",
   "execution_count": 10,
   "id": "2f432cae",
   "metadata": {},
   "outputs": [
    {
     "data": {
      "text/plain": [
       "\"{'word': '프린세스 프링', 'start_idx': 7, 'end_idx': 13, 'type': 'PER'}\""
      ]
     },
     "execution_count": 10,
     "metadata": {},
     "output_type": "execute_result"
    }
   ],
   "source": [
    "# type\n",
    "test_df_copy['object_entity'][35][-5:-2]\n",
    "test_df_copy['subject_entity'][1]"
   ]
  },
  {
   "cell_type": "code",
   "execution_count": 11,
   "id": "cc7cafdc",
   "metadata": {},
   "outputs": [],
   "source": [
    "# idx 매치 안되었을 때 변경하기\n",
    "def change_idx(df,entity,idx_list):\n",
    "    for i in idx_list:\n",
    "        try:\n",
    "            word = df[entity][i].split('\\', \\'start_idx')[0].split('word\\': \\'')[1]\n",
    "        except:\n",
    "            try:\n",
    "                word = df[entity][i].split('\\\", \\'start_idx')[0].split('word\\': \\\"')[1]\n",
    "            except:\n",
    "                print('!!error!!!!!!!',df['sentence'][i],i,\": \",df[entity][i])\n",
    "        sentence = df['sentence'][i]\n",
    "        type_entity = df[entity][i][-5:-2]\n",
    "        try:\n",
    "            start_idx = sentence.index(word) # 가장 처음에 나오는 위치로 변경합니다 (수정해야할수도...)\n",
    "            end_idx = start_idx + len(word) -1\n",
    "            df[entity][i] = f\"{{'word': '{word}', 'start_idx': {start_idx}, 'end_idx': {end_idx}, 'type': '{type_entity}'}}\"\n",
    "        except ValueError:\n",
    "            print('찾고자 하는 값 없음: ',word, i)"
   ]
  },
  {
   "cell_type": "markdown",
   "id": "0134c6f6",
   "metadata": {},
   "source": [
    "## (주) (사) ㈔ (재)  ->㈜ 로 통일\n",
    "가정: 기업 관련된 class에 영향을 미칠 것으로 예상\n",
    "klue/roberta-large 기준 ㈜ 는 토큰에 있으나 ㈔가 붙으면 UNK로 취급함\n",
    "둘을 구별하는 class가 없어서 통일 결정"
   ]
  },
  {
   "cell_type": "code",
   "execution_count": 12,
   "id": "12facad5",
   "metadata": {},
   "outputs": [],
   "source": [
    "change_sc(train_df_copy,'(주)','㈜')\n",
    "change_sc(train_df_copy,'(사)','㈜')\n",
    "change_sc(train_df_copy,'㈔','㈜')\n",
    "change_sc(train_df_copy,'(재)','㈜')\n",
    "\n",
    "change_entity(train_df_copy,'(주)','㈜','subject_entity')\n",
    "change_entity(train_df_copy,'(사)','㈜','subject_entity')\n",
    "change_entity(train_df_copy,'㈔','㈜','subject_entity')\n",
    "change_entity(train_df_copy,'(재)','㈜','subject_entity')\n",
    "\n",
    "change_entity(train_df_copy,'(주)','㈜','object_entity')\n",
    "change_entity(train_df_copy,'(사)','㈜','object_entity')\n",
    "change_entity(train_df_copy,'㈔','㈜','object_entity')\n",
    "change_entity(train_df_copy,'(재)','㈜','object_entity')"
   ]
  },
  {
   "cell_type": "code",
   "execution_count": 13,
   "id": "65f03663",
   "metadata": {
    "scrolled": true
   },
   "outputs": [
    {
     "name": "stdout",
     "output_type": "stream",
     "text": [
      "3: 3, 다이소(대, 아성다이소\n",
      "608: 610, 대학교 총, 부산대학교\n",
      "2018: 2024, 교통위원회(위, 국토교통위원회\n",
      "2824: 2831, 비엔날레 등, 광주비엔날레\n",
      "2968: 2975, EH)로, CJEH\n",
      "3176: 3183, 헌 경, 전우헌\n",
      "3950: 3957, 문화방송의 , 목포문화방송\n",
      "4243: 4252, 수한 , 이투스\n",
      "4668: 4677, 정보화진흥원 등, 한국정보화진흥원\n",
      "5233: 5243, 정공㈜의, 현대정공\n",
      "6690: 6704, 대학교 경, 동국대학교\n",
      "6951: 6966, 농수산식품유통공사, , 한국농수산식품유통공사\n",
      "6973: 6988, 군교육발전위원회(이, 고흥군교육발전위원회\n",
      "7075: 7090, 트랜스 대, 네오트랜스\n",
      "8672: 8689, 가스기술공사, , 한국가스기술공사\n",
      "9247: 9265, 현대로템㈜는 , 현대로템㈜\n",
      "10049: 10070, 고속이 , 광주고속\n",
      "11244: 11267, ㈜마인버스를 , ㈜마인버스\n",
      "11933: 11956, 정원정, 산림청\n",
      "11948: 11971, 준 한, 박일준\n",
      "12527: 12551, 시교육재단(이, 포천시교육재단\n",
      "12633: 12657, 산업안전보건공단에서, 한국산업안전보건공단\n",
      "14118: 14145, 과학기술원 총, 광주과학기술원\n",
      "14856: 14883, 교통(이, 광양교통\n",
      "15595: 15624, 플렉스는 , MJ플렉스\n",
      "16144: 16174, 소(대, 다이소\n",
      "16644: 16674, E미래에셋증권㈜으로, E미래에셋증권㈜\n",
      "16824: 16854, 시도 , 여수시\n",
      "17481: 17512, 기업기술정보진흥원, , 중소기업기술정보진흥원\n",
      "17501: 17532, 군지부, 양평군\n",
      "18071: 18102, 소프트의 , 엔씨소프트\n",
      "19083: 19115, 군지부, 양평군\n",
      "19820: 19853, 다이소(대, 아성다이소\n",
      "19943: 19976, 소비자원이 , 한국소비자원\n",
      "20054: 20087, 무역투자진흥공사(사, 대한무역투자진흥공사\n",
      "20254: 20287, 북도무형, 전라북도\n",
      "20306: 20339, 가스공사(사, 한국가스공사\n",
      "21137: 21171, 군지부, 양평군\n",
      "21771: 21805, 사이언스 주식회, 제일헬스사이언스\n",
      "21952: 21986, 어민주당 화, 더불어민주당\n",
      "22258: 22293, 여자고등학교 축구부에 , 광양여자고등학교 축구부\n",
      "22321: 22356, 그룹 故, 한진그룹\n",
      "22400: 22435, 도부), 청산도\n",
      "24343: 24380, ㈜신세계를 , ㈜신세계\n",
      "24446: 24483, 이카전력, 자메이카\n",
      "26798: 26835, 트맥주, 하이트\n",
      "26982: 27019, 준 한, 박일준\n",
      "27075: 27112, 에서 , 태백시\n",
      "27883: 27923, 단 박, 함태호\n",
      "27984: 28024, 타워부), 완도타워\n",
      "29604: 29645, 하이트진로㈜는 , 하이트진로㈜\n",
      "30955: 30997, 곤 군, 구충곤\n",
      "31915: 31957, ㈜무학 창, ㈜무학\n",
      "31944: 31986, 션(대, 팬오션\n",
      "32043: 32085, 통상자원부(이, 산업통상자원부\n",
      "32405: 32447, 재정부 예, 기획재정부\n",
      "------------\n",
      "3: 3, 부)는, 박정부\n",
      "312: 314, 준)는, 박일준\n",
      "492: 494, 씨제이이에치㈜(C, 씨제이이에치㈜\n",
      "608: 610, 환 부, 전호환\n",
      "885: 888, 연 대, 임병연\n",
      "1744: 1749, 준)는, 박일준\n",
      "1760: 1765, 준)는, 박일준\n",
      "2018: 2024, 자 국, 박순자\n",
      "2824: 2831, 예술벨트, 문화예술\n",
      "2968: 2975, 씨제이이에치㈜(C, 씨제이이에치㈜\n",
      "3176: 3183, 북도 경제부지사, , 경상북도 경제부지사\n",
      "3251: 3258, san Bank A, Busan Bank\n",
      "3941: 3948, 준)는, 박일준\n",
      "4190: 4198, 준)는, 박일준\n",
      "4269: 4278, 준)는, 박일준\n",
      "4907: 4917, 준)는, 박일준\n",
      "5233: 5243, 스㈜로부터, 현대모비스\n",
      "5681: 5693, 준)는, 박일준\n",
      "6123: 6135, 준)는, 박일준\n",
      "6951: 6966, 축산식품부, , 농림축산식품부\n",
      "6973: 6988, 근)는, 송귀근\n",
      "7027: 7042, 전력공사(사, 한국전력공사\n",
      "7047: 7062, 광역시 청, 인천광역시\n",
      "7196: 7211, 준)는, 박일준\n",
      "7979: 7994, 준)는, 박일준\n",
      "8198: 8215, 당선(강, 신분당선\n",
      "9247: 9265, 자동차㈜가 최대, 현대자동차㈜\n",
      "9924: 9945, 훈) , 정재훈\n",
      "10049: 10070, 건설㈜를, 금호건설\n",
      "10471: 10493, 도 인, 경기도\n",
      "10970: 10992, 도신체, 경기도\n",
      "11053: 11075, 준)는, 박일준\n",
      "11304: 11327, 로 변경한, 지텔레비전\n",
      "11572: 11595, 식, , 신정식\n",
      "11933: 11956, 식품부 도시농, 농림축산식품부\n",
      "11948: 11971, 동서발전 사장 및, 한국동서발전 사장\n",
      "12402: 12426, 준)는, 박일준\n",
      "12527: 12551, 국)은, 박윤국\n",
      "12633: 12657, 노동부와 , 고용노동부\n",
      "13532: 13558, 준)는, 박일준\n",
      "13893: 13919, 준 사, 박일준\n",
      "14118: 14145, 현 전, 문승현\n",
      "14856: 14883, 심 대, 이순심\n",
      "14994: 15021, 준)는, 박일준\n",
      "15254: 15283, 닥에 , 코스닥\n",
      "15273: 15302, 준)는, 박일준\n",
      "15565: 15594, 준)는, 박일준\n",
      "15595: 15624, 96년 10월, , 1996년 10월\n",
      "16144: 16174, 부)는, 박정부\n",
      "16224: 16254, 준)는, 박일준\n",
      "17251: 17282, 열)은, 유향열\n",
      "17481: 17512, 식품안전관리인증원, , 한국식품안전관리인증원\n",
      "17501: 17532, 도신체, 경기도\n",
      "18705: 18736, 준)는, 박일준\n",
      "18709: 18740, ㈜포르테 소프트웨어(나, ㈜포르테 소프트웨어\n",
      "19043: 19075, 자동차그룹이 , 현대자동차그룹\n",
      "19083: 19115, 도신체, 경기도\n",
      "19820: 19853, 부)는, 박정부\n",
      "19920: 19953, 국)의, 박윤국\n",
      "19943: 19976, 거래위원회가 , 공정거래위원회\n",
      "20054: 20087, 오, , 권평오\n",
      "20306: 20339, 봉)와, 채희봉\n",
      "20371: 20404, 도의회, 경기도\n",
      "20978: 21012, 준 동, 박일준\n",
      "21278: 21312, 숙)에, 한성숙\n",
      "21479: 21513, 준)는, 박일준\n",
      "21607: 21641, 업협력, 공기업\n",
      "21771: 21805,  강영훈, 주식회사\n",
      "21952: 21986, 곤 군, 구충곤\n",
      "22258: 22293, 시사랑, 광양시\n",
      "22321: 22356, 훈 회, 조중훈\n",
      "22400: 22435, 남도와 , 전라남도\n",
      "22747: 22782, 도경제, 경기도\n",
      "23472: 23508, 식, , 신정식\n",
      "24446: 24483, 턴에 , 킹스턴\n",
      "24680: 24717, 준)는, 박일준\n",
      "24715: 24752, 준)는, 박일준\n",
      "24716: 24753, 준)은, 박일준\n",
      "25233: 25270, 준)는, 박일준\n",
      "25392: 25429, 준 이, 함영준\n",
      "25433: 25470, 열)은, 유향열\n",
      "25932: 25969, 운)가, 윤창운\n",
      "26030: 26067, 준)는, 박일준\n",
      "26095: 26132, 영)는, 고지영\n",
      "26394: 26431, 여수시, 권오봉\n",
      "26529: 26566, 공사 100, 한국전력공사\n",
      "26798: 26835, 11년 9월 1일 주, 2011년 9월 1일\n",
      "26855: 26892, 훈, , 정재훈\n",
      "26982: 27019, 동서발전 사장, , 한국동서발전 사장\n",
      "27072: 27109, 준)는, 박일준\n",
      "27075: 27112, 도 등, 강원도\n",
      "27266: 27303, 남도, , 경상남도\n",
      "27883: 27923, 태호재, 오뚜기\n",
      "27893: 27933, 통상자원부(이, 산업통상자원부\n",
      "27936: 27976, 준)는, 박일준\n",
      "27984: 28024, 군의회, 완도군\n",
      "28594: 28634, 준)는, 박일준\n",
      "28744: 28784, 준)는, 박일준\n",
      "28785: 28825, ㈜위메프로 , ㈜위메프\n",
      "29604: 29645, 11년 9월 1일 주, 2011년 9월 1일\n",
      "29717: 29758, 준 동, 박일준\n",
      "29852: 29893, 박스와 , 메가박스\n",
      "30269: 30310, 준)는, 박일준\n",
      "30287: 30328, 전력공사의 , 한국전력공사\n",
      "30572: 30613, 준)는, 박일준\n",
      "30886: 30928, 준)는, 박일준\n",
      "30955: 30997, 어민주당 화, 더불어민주당\n",
      "31944: 31986, 엽)과, 추성엽\n",
      "32043: 32085, 부’), 산업부\n"
     ]
    }
   ],
   "source": [
    "train_sub_list = check_idx(train_df_copy,'subject_entity')\n",
    "print('------------')\n",
    "train_obj_list = check_idx(train_df_copy,'object_entity')"
   ]
  },
  {
   "cell_type": "code",
   "execution_count": 14,
   "id": "08451dd8",
   "metadata": {},
   "outputs": [],
   "source": [
    "change_idx(train_df_copy,'subject_entity',train_sub_list)\n",
    "change_idx(train_df_copy,'object_entity',train_obj_list)"
   ]
  },
  {
   "cell_type": "code",
   "execution_count": 15,
   "id": "b2195f87",
   "metadata": {
    "scrolled": true
   },
   "outputs": [
    {
     "name": "stdout",
     "output_type": "stream",
     "text": [
      "------------\n"
     ]
    }
   ],
   "source": [
    "train_sub_list = check_idx(train_df_copy,'subject_entity')\n",
    "print('------------')\n",
    "train_sub_list = check_idx(train_df_copy,'object_entity')"
   ]
  },
  {
   "cell_type": "code",
   "execution_count": 16,
   "id": "db572feb",
   "metadata": {},
   "outputs": [],
   "source": [
    "change_sc(test_df_copy,'(주)','㈜')\n",
    "change_sc(test_df_copy,'(사)','㈜')\n",
    "change_sc(test_df_copy,'㈔','㈜')\n",
    "\n",
    "change_entity(test_df_copy,'(주)','㈜','subject_entity')\n",
    "change_entity(test_df_copy,'(사)','㈜','subject_entity')\n",
    "change_entity(test_df_copy,'㈔','㈜','subject_entity')\n",
    "\n",
    "change_entity(test_df_copy,'(주)','㈜','object_entity')\n",
    "change_entity(test_df_copy,'(사)','㈜','object_entity')\n",
    "change_entity(test_df_copy,'㈔','㈜','object_entity')"
   ]
  },
  {
   "cell_type": "code",
   "execution_count": 17,
   "id": "d60eb71d",
   "metadata": {},
   "outputs": [
    {
     "name": "stdout",
     "output_type": "stream",
     "text": [
      "295: 295, 원(원장 , 광양문화원\n",
      "696: 696, ㈜인천계양모범운전자회, , ㈜인천계양모범운전자회\n",
      "1159: 1159,  방, 정부\n",
      "1181: 1181, 준)와, 박일준\n",
      "1704: 1704, 선 의, 홍귀선\n",
      "2420: 2420, 철도㈜로, 경기철도\n",
      "2898: 2898, ㈜광주민주화운동기념사업회 이, ㈜광주민주화운동기념사업회\n",
      "3033: 3033, 석)은, 강제석\n",
      "3235: 3235, Kcompany)를, YJKcompany\n",
      "3477: 3477, ㈜빛남영화공동체(이, ㈜빛남영화공동체\n",
      "3491: 3491, 시립예술단 정, 파주시립예술단\n",
      "3686: 3686, 글로벌 세아㈜와 , 글로벌 세아㈜\n",
      "4122: 4122, ㈜한국드론산업협회는 , ㈜한국드론산업협회\n",
      "4306: 4306, 규 광, 김재규\n",
      "5533: 5533, 노인대학(학, 가산노인대학\n",
      "5660: 5660, ㈜한국전통민화연구소는 , ㈜한국전통민화연구소\n",
      "7474: 7474, ㈜장보고글로벌재단(이, ㈜장보고글로벌재단\n",
      "7558: 7558, 한국동서발전㈜(사, 한국동서발전㈜\n",
      "------------\n",
      "295: 295, 장 박, 이사장\n",
      "1159: 1159, 객의 , 관광객\n",
      "1181: 1181, 는 3, 홍동표\n",
      "1704: 1704, 부시 부, 의정부시\n",
      "2027: 2027, 대병원을 , 전남대병원\n",
      "2260: 2260, 19년 대, 2019년\n",
      "2898: 2898,  5·, 이사장\n",
      "3033: 3033, 본부, 전남\n",
      "3235: 3235, 자가 , 김연자\n",
      "3477: 3477, 호)에, 이장호\n",
      "3491: 3491, 감독)가, 음악감독\n",
      "4122: 4122, 산업, 드론\n",
      "4306: 4306, 장, , 부회장\n",
      "5660: 5660, 전통, 한국\n",
      "6277: 6277, 카페 등, 은빛카페\n",
      "7474: 7474, 룡)이, 김덕룡\n",
      "7558: 7558,  소, 중구\n"
     ]
    }
   ],
   "source": [
    "test_sub_list = check_idx(test_df_copy,'subject_entity')\n",
    "print('------------')\n",
    "test_obj_list = check_idx(test_df_copy,'object_entity')"
   ]
  },
  {
   "cell_type": "code",
   "execution_count": 18,
   "id": "b5256bbe",
   "metadata": {},
   "outputs": [],
   "source": [
    "change_idx(test_df_copy,'subject_entity',test_sub_list)\n",
    "change_idx(test_df_copy,'object_entity',test_obj_list)"
   ]
  },
  {
   "cell_type": "code",
   "execution_count": 19,
   "id": "5e3b9634",
   "metadata": {},
   "outputs": [
    {
     "name": "stdout",
     "output_type": "stream",
     "text": [
      "------------\n"
     ]
    }
   ],
   "source": [
    "test_sub_list = check_idx(test_df_copy,'subject_entity')\n",
    "print('------------')\n",
    "test_obj_list = check_idx(test_df_copy,'object_entity')"
   ]
  },
  {
   "cell_type": "markdown",
   "id": "ddb99c6a",
   "metadata": {},
   "source": [
    "## unk 관련 수정"
   ]
  },
  {
   "cell_type": "code",
   "execution_count": 20,
   "id": "53b839ac",
   "metadata": {},
   "outputs": [],
   "source": [
    "ch_list1 = ['⟪', '⟫', '˹', '˼','«' ,'»','⌜','⌟'] # to \"'\"\n",
    "ch_list2 = ['€', ' Ⓐ', 'Ⓐ', '(˘ ³˘)!!!', '£', '▴', '⁺', '®', '、', '±'] # del\n",
    "ch_list3 = ['⸱', '･', '⋅', '·']"
   ]
  },
  {
   "cell_type": "code",
   "execution_count": 21,
   "id": "e1354ad7",
   "metadata": {},
   "outputs": [],
   "source": [
    "change_sc(train_df_copy,' ▵',',')\n",
    "change_sc(train_df_copy,'↔',',')\n",
    "change_sc(train_df_copy,'–','-')\n",
    "change_sc(train_df_copy,\"＇\",'\\'')\n",
    "change_sc(train_df_copy,\"′\",'\\'')\n",
    "change_sc(train_df_copy,'~','-')\n",
    "change_sc(train_df_copy,'～','-')\n",
    "change_sc(train_df_copy,'∼','-')\n",
    "change_sc(train_df_copy,'（','(')\n",
    "change_sc(train_df_copy,'）',')')\n",
    "change_sc(train_df_copy,'㎿','MW')\n",
    "change_sc(train_df_copy,'㎞','km')          \n",
    "change_sc(train_df_copy,'㎏','kg')  \n",
    "change_sc(train_df_copy,'','')  \n",
    "          \n",
    "for ch in ch_list1:\n",
    "    change_sc(train_df_copy,ch,'\\'')\n",
    "for ch in ch_list2:\n",
    "    change_sc(train_df_copy,ch,'')\n",
    "for ch in ch_list3:\n",
    "    change_sc(train_df_copy,ch,'/')"
   ]
  },
  {
   "cell_type": "code",
   "execution_count": 22,
   "id": "e8568b19",
   "metadata": {},
   "outputs": [],
   "source": [
    "change_entity(train_df_copy,' ▵',',','subject_entity')\n",
    "change_entity(train_df_copy,'↔',',','subject_entity')\n",
    "change_entity(train_df_copy,'–','-','subject_entity')\n",
    "change_entity(train_df_copy,\"＇\",'\\'','subject_entity')\n",
    "change_entity(train_df_copy,\"′\",'\\'','subject_entity')\n",
    "change_entity(train_df_copy,'~','-','subject_entity')\n",
    "change_entity(train_df_copy,'～','-','subject_entity')\n",
    "change_entity(train_df_copy,'∼','-','subject_entity')\n",
    "change_entity(train_df_copy,'（','(','subject_entity')\n",
    "change_entity(train_df_copy,'）',')','subject_entity')\n",
    "change_entity(train_df_copy,'㎿','MW','subject_entity')\n",
    "change_entity(train_df_copy,'㎞','km','subject_entity')          \n",
    "change_entity(train_df_copy,'㎏','kg','subject_entity')  \n",
    "change_entity(train_df_copy,'','','subject_entity')  \n",
    "          \n",
    "for ch in ch_list1:\n",
    "    change_entity(train_df_copy,ch,'\\'','subject_entity')\n",
    "for ch in ch_list2:\n",
    "    change_entity(train_df_copy,ch,'','subject_entity')\n",
    "for ch in ch_list3:\n",
    "    change_entity(train_df_copy,ch,'/','subject_entity')"
   ]
  },
  {
   "cell_type": "code",
   "execution_count": 23,
   "id": "147aa389",
   "metadata": {},
   "outputs": [],
   "source": [
    "change_entity(train_df_copy,' ▵',',','object_entity')\n",
    "change_entity(train_df_copy,'↔',',','object_entity')\n",
    "change_entity(train_df_copy,'–','-','object_entity')\n",
    "change_entity(train_df_copy,\"＇\",'\\'','object_entity')\n",
    "change_entity(train_df_copy,\"′\",'\\'','object_entity')\n",
    "change_entity(train_df_copy,'~','-','object_entity')\n",
    "change_entity(train_df_copy,'～','-','object_entity')\n",
    "change_entity(train_df_copy,'∼','-','object_entity')\n",
    "change_entity(train_df_copy,'（','(','object_entity')\n",
    "change_entity(train_df_copy,'）',')','object_entity')\n",
    "change_entity(train_df_copy,'㎿','MW','object_entity')\n",
    "change_entity(train_df_copy,'㎞','km','object_entity')          \n",
    "change_entity(train_df_copy,'㎏','kg','object_entity')  \n",
    "change_entity(train_df_copy,'','','object_entity')  \n",
    "          \n",
    "for ch in ch_list1:\n",
    "    change_entity(train_df_copy,ch,'\\'','object_entity')\n",
    "for ch in ch_list2:\n",
    "    change_entity(train_df_copy,ch,'','object_entity')\n",
    "for ch in ch_list3:\n",
    "    change_entity(train_df_copy,ch,'/','object_entity')"
   ]
  },
  {
   "cell_type": "code",
   "execution_count": 24,
   "id": "5aaaf043",
   "metadata": {
    "scrolled": true
   },
   "outputs": [
    {
     "name": "stdout",
     "output_type": "stream",
     "text": [
      "820: 823, 코 F. 후지오는 , 후지코 F. 후지오\n",
      "1635: 1639, 겔 앙헬 모야 , 미겔 앙헬 모야\n",
      "2710: 2717,  핫토리군이 , 닌자 핫토리군\n",
      "5249: 5259, 스널 FC에, 아스널 FC\n",
      "7645: 7660, 제 모리뉴의, 주제 모리뉴\n",
      "8977: 8995, 에몽의 , 도라에몽\n",
      "9065: 9083, 리뉴의, 모리뉴\n",
      "10616: 10638, 청‧한국교통안전, 한국교통안전공단\n",
      "11819: 11842, 초 마레스카를, 엔초 마레스카\n",
      "16502: 16532, 중 국, 유재중\n",
      "22163: 22198, 상주식회사 , 대상주식회사\n",
      "29640: 29681, fL 볼프스부르크로, VfL 볼프스부르크\n",
      "------------\n",
      "787: 790, 017년, 2017\n",
      "820: 823, 에몽의 , 도라에몽\n",
      "1238: 1241, 에몽, , 도라에몽\n",
      "1635: 1639, 키퍼가, 골키퍼\n",
      "2710: 2717, 후지코 후지오의 , 후지코 후지오\n",
      "5249: 5259, 리미어리그의, 프리미어리그\n",
      "6220: 6233, 코 F. 후지오와 , 후지코 F. 후지오\n",
      "7645: 7660, 르투갈인, 포르투갈\n",
      "8977: 8995, 코 F. 후지오는 , 후지코 F. 후지오\n",
      "9065: 9083, 르투갈인, 포르투갈\n",
      "9105: 9123, 알 마드리드로, 레알 마드리드\n",
      "10616: 10638, , 국토교, 국토교통부\n",
      "11819: 11842, 드필더 , 미드필더\n",
      "14847: 14874, 화가, 일러스트레이터이, 만화가, 일러스트레이터\n",
      "16502: 16532,  수영구),, 부산 수영구\n",
      "22163: 22198, 대홍 , 임대홍\n",
      "29640: 29681, 데스리가의, 분데스리가\n"
     ]
    }
   ],
   "source": [
    "train_sub_list = check_idx(train_df_copy,'subject_entity')\n",
    "print('------------')\n",
    "train_obj_list = check_idx(train_df_copy,'object_entity')"
   ]
  },
  {
   "cell_type": "code",
   "execution_count": 25,
   "id": "2cd434bf",
   "metadata": {},
   "outputs": [],
   "source": [
    "change_idx(train_df_copy,'subject_entity',train_sub_list)\n",
    "change_idx(train_df_copy,'object_entity',train_obj_list)"
   ]
  },
  {
   "cell_type": "code",
   "execution_count": 26,
   "id": "bceafac4",
   "metadata": {
    "scrolled": true
   },
   "outputs": [
    {
     "name": "stdout",
     "output_type": "stream",
     "text": [
      "------------\n"
     ]
    }
   ],
   "source": [
    "train_sub_list = check_idx(train_df_copy,'subject_entity')\n",
    "print('------------')\n",
    "train_sub_list = check_idx(train_df_copy,'object_entity')"
   ]
  },
  {
   "cell_type": "code",
   "execution_count": 27,
   "id": "85de6993",
   "metadata": {},
   "outputs": [],
   "source": [
    "change_sc(test_df_copy,' ▵',',')\n",
    "change_sc(test_df_copy,'↔',',')\n",
    "change_sc(test_df_copy,'–','-')\n",
    "change_sc(test_df_copy,\"＇\",'\\'')\n",
    "change_sc(test_df_copy,\"′\",'\\'')\n",
    "change_sc(test_df_copy,'~','-')\n",
    "change_sc(test_df_copy,'～','-')\n",
    "change_sc(test_df_copy,'∼','-')\n",
    "change_sc(test_df_copy,'（','(')\n",
    "change_sc(test_df_copy,'）',')')\n",
    "change_sc(test_df_copy,'㎿','MW')\n",
    "change_sc(test_df_copy,'㎞','km')          \n",
    "change_sc(test_df_copy,'㎏','kg')  \n",
    "change_sc(test_df_copy,'','')  \n",
    "          \n",
    "for ch in ch_list1:\n",
    "    change_sc(test_df_copy,ch,'\\'')\n",
    "for ch in ch_list2:\n",
    "    change_sc(test_df_copy,ch,'')\n",
    "for ch in ch_list3:\n",
    "    change_sc(test_df_copy,ch,'/')"
   ]
  },
  {
   "cell_type": "code",
   "execution_count": 28,
   "id": "fcfbbb74",
   "metadata": {},
   "outputs": [],
   "source": [
    "change_entity(test_df_copy,' ▵',',','subject_entity')\n",
    "change_entity(test_df_copy,'↔',',','subject_entity')\n",
    "change_entity(test_df_copy,'–','-','subject_entity')\n",
    "change_entity(test_df_copy,\"＇\",'\\'','subject_entity')\n",
    "change_entity(test_df_copy,\"′\",'\\'','subject_entity')\n",
    "change_entity(test_df_copy,'~','-','subject_entity')\n",
    "change_entity(test_df_copy,'～','-','subject_entity')\n",
    "change_entity(test_df_copy,'∼','-','subject_entity')\n",
    "change_entity(test_df_copy,'（','(','subject_entity')\n",
    "change_entity(test_df_copy,'）',')','subject_entity')\n",
    "change_entity(test_df_copy,'㎿','MW','subject_entity')\n",
    "change_entity(test_df_copy,'㎞','km','subject_entity')          \n",
    "change_entity(test_df_copy,'㎏','kg','subject_entity')  \n",
    "change_entity(test_df_copy,'','','subject_entity')  \n",
    "          \n",
    "for ch in ch_list1:\n",
    "    change_entity(test_df_copy,ch,'\\'','subject_entity')\n",
    "for ch in ch_list2:\n",
    "    change_entity(test_df_copy,ch,'','subject_entity')\n",
    "for ch in ch_list3:\n",
    "    change_entity(test_df_copy,ch,'/','subject_entity')"
   ]
  },
  {
   "cell_type": "code",
   "execution_count": 29,
   "id": "2efffbbc",
   "metadata": {},
   "outputs": [],
   "source": [
    "change_entity(test_df_copy,' ▵',',','object_entity')\n",
    "change_entity(test_df_copy,'↔',',','object_entity')\n",
    "change_entity(test_df_copy,'–','-','object_entity')\n",
    "change_entity(test_df_copy,\"＇\",'\\'','object_entity')\n",
    "change_entity(test_df_copy,\"′\",'\\'','object_entity')\n",
    "change_entity(test_df_copy,'~','-','object_entity')\n",
    "change_entity(test_df_copy,'～','-','object_entity')\n",
    "change_entity(test_df_copy,'∼','-','object_entity')\n",
    "change_entity(test_df_copy,'（','(','object_entity')\n",
    "change_entity(test_df_copy,'）',')','object_entity')\n",
    "change_entity(test_df_copy,'㎿','MW','object_entity')\n",
    "change_entity(test_df_copy,'㎞','km','object_entity')          \n",
    "change_entity(test_df_copy,'㎏','kg','object_entity')  \n",
    "change_entity(test_df_copy,'','','object_entity')  \n",
    "          \n",
    "for ch in ch_list1:\n",
    "    change_entity(test_df_copy,ch,'\\'','object_entity')\n",
    "for ch in ch_list2:\n",
    "    change_entity(test_df_copy,ch,'','object_entity')\n",
    "for ch in ch_list3:\n",
    "    change_entity(test_df_copy,ch,'/','object_entity')"
   ]
  },
  {
   "cell_type": "code",
   "execution_count": 30,
   "id": "875d963f",
   "metadata": {
    "scrolled": true
   },
   "outputs": [
    {
     "name": "stdout",
     "output_type": "stream",
     "text": [
      "2137: 2137,  모정, 모정이\n",
      "4148: 4148,  대표,, 더 이음\n",
      "7091: 7091, 터 시티와 4, 맨체스터 시티\n",
      "7746: 7746, 정자치부 , 행정자치부\n",
      "------------\n",
      "2137: 2137, 10k, 10kg\n",
      "4148: 4148, 왕기 , 이왕기\n"
     ]
    }
   ],
   "source": [
    "test_sub_list = check_idx(test_df_copy,'subject_entity')\n",
    "print('------------')\n",
    "test_obj_list = check_idx(test_df_copy,'object_entity')"
   ]
  },
  {
   "cell_type": "code",
   "execution_count": 31,
   "id": "1eef8767",
   "metadata": {},
   "outputs": [],
   "source": [
    "change_idx(test_df_copy,'subject_entity',test_sub_list)\n",
    "change_idx(test_df_copy,'object_entity',test_obj_list)"
   ]
  },
  {
   "cell_type": "code",
   "execution_count": 32,
   "id": "8044342c",
   "metadata": {
    "scrolled": true
   },
   "outputs": [
    {
     "name": "stdout",
     "output_type": "stream",
     "text": [
      "------------\n"
     ]
    }
   ],
   "source": [
    "test_sub_list = check_idx(test_df_copy,'subject_entity')\n",
    "print('------------')\n",
    "test_sub_list = check_idx(test_df_copy,'object_entity')"
   ]
  },
  {
   "cell_type": "markdown",
   "id": "f06ba52b",
   "metadata": {},
   "source": [
    "## 중복기호 제거\n",
    "kg km는 위에있음.."
   ]
  },
  {
   "cell_type": "code",
   "execution_count": 33,
   "id": "8de8ab20",
   "metadata": {},
   "outputs": [],
   "source": [
    "same = ['：','‘','’','“','”','？','／','％']\n",
    "change_same = [':','\\'','\\'','\\\"','\\\"','?','/','%']"
   ]
  },
  {
   "cell_type": "code",
   "execution_count": 34,
   "id": "e5288571",
   "metadata": {},
   "outputs": [],
   "source": [
    "for i in range(len(same)):\n",
    "    change_sc(train_df_copy,same[i],change_same[i])  \n"
   ]
  },
  {
   "cell_type": "code",
   "execution_count": 35,
   "id": "97f56924",
   "metadata": {},
   "outputs": [],
   "source": [
    "for i in range(len(same)):\n",
    "    change_entity(train_df_copy,same[i],change_same[i],'subject_entity')  \n"
   ]
  },
  {
   "cell_type": "code",
   "execution_count": 36,
   "id": "020e174a",
   "metadata": {},
   "outputs": [],
   "source": [
    "for i in range(len(same)):\n",
    "    change_entity(train_df_copy,same[i],change_same[i],'object_entity')  "
   ]
  },
  {
   "cell_type": "code",
   "execution_count": 37,
   "id": "24be69a5",
   "metadata": {
    "scrolled": true
   },
   "outputs": [
    {
     "name": "stdout",
     "output_type": "stream",
     "text": [
      "------------\n"
     ]
    }
   ],
   "source": [
    "train_sub_list = check_idx(train_df_copy,'subject_entity')\n",
    "print('------------')\n",
    "train_obj_list = check_idx(train_df_copy,'object_entity')"
   ]
  },
  {
   "cell_type": "code",
   "execution_count": 38,
   "id": "cdddf456",
   "metadata": {},
   "outputs": [],
   "source": [
    "change_idx(train_df_copy,'subject_entity',train_sub_list)\n",
    "change_idx(train_df_copy,'object_entity',train_obj_list)"
   ]
  },
  {
   "cell_type": "code",
   "execution_count": 39,
   "id": "0963d1f9",
   "metadata": {
    "scrolled": true
   },
   "outputs": [
    {
     "name": "stdout",
     "output_type": "stream",
     "text": [
      "------------\n"
     ]
    }
   ],
   "source": [
    "train_sub_list = check_idx(train_df_copy,'subject_entity')\n",
    "print('------------')\n",
    "train_sub_list = check_idx(train_df_copy,'object_entity')"
   ]
  },
  {
   "cell_type": "code",
   "execution_count": 40,
   "id": "ce16e654",
   "metadata": {},
   "outputs": [],
   "source": [
    "for i in range(len(same)):\n",
    "    change_sc(test_df_copy,same[i],change_same[i])  \n"
   ]
  },
  {
   "cell_type": "code",
   "execution_count": 41,
   "id": "aafda68d",
   "metadata": {},
   "outputs": [],
   "source": [
    "for i in range(len(same)):\n",
    "    change_entity(test_df_copy,same[i],change_same[i],'subject_entity')  \n"
   ]
  },
  {
   "cell_type": "code",
   "execution_count": 42,
   "id": "4920d8bf",
   "metadata": {},
   "outputs": [],
   "source": [
    "for i in range(len(same)):\n",
    "    change_entity(test_df_copy,same[i],change_same[i],'object_entity')  \n"
   ]
  },
  {
   "cell_type": "code",
   "execution_count": 43,
   "id": "5340bd4a",
   "metadata": {
    "scrolled": true
   },
   "outputs": [
    {
     "name": "stdout",
     "output_type": "stream",
     "text": [
      "------------\n"
     ]
    }
   ],
   "source": [
    "test_sub_list = check_idx(test_df_copy,'subject_entity')\n",
    "print('------------')\n",
    "test_obj_list = check_idx(test_df_copy,'object_entity')"
   ]
  },
  {
   "cell_type": "code",
   "execution_count": 44,
   "id": "c40488cb",
   "metadata": {},
   "outputs": [],
   "source": [
    "change_idx(test_df_copy,'subject_entity',test_sub_list)\n",
    "change_idx(test_df_copy,'object_entity',test_obj_list)"
   ]
  },
  {
   "cell_type": "code",
   "execution_count": 45,
   "id": "53b4a1dc",
   "metadata": {
    "scrolled": true
   },
   "outputs": [
    {
     "name": "stdout",
     "output_type": "stream",
     "text": [
      "------------\n"
     ]
    }
   ],
   "source": [
    "test_sub_list = check_idx(test_df_copy,'subject_entity')\n",
    "print('------------')\n",
    "test_sub_list = check_idx(test_df_copy,'object_entity')"
   ]
  },
  {
   "cell_type": "code",
   "execution_count": 46,
   "id": "20c5b425",
   "metadata": {},
   "outputs": [],
   "source": [
    "sc_dict_all = {}\n",
    "for i in range(len(train_df_copy)):\n",
    "    string = train_df_copy['sentence'][i]\n",
    "    for char in string:\n",
    "        if not char.isalnum():\n",
    "            try:\n",
    "                sc_dict_all[char] += 1\n",
    "            except:\n",
    "                sc_dict_all[char] = 1\n",
    "for i in range(len(test_df_copy)):\n",
    "    string = test_df_copy['sentence'][i]\n",
    "    for char in string:\n",
    "        if not char.isalnum():\n",
    "            try:\n",
    "                sc_dict_all[char] += 1\n",
    "            except:\n",
    "                sc_dict_all[char] = 1"
   ]
  },
  {
   "cell_type": "code",
   "execution_count": 47,
   "id": "a15d268e",
   "metadata": {
    "scrolled": true
   },
   "outputs": [
    {
     "data": {
      "text/plain": [
       "{'〈': 224,\n",
       " '〉': 230,\n",
       " ' ': 788013,\n",
       " '《': 1131,\n",
       " '》': 1122,\n",
       " '.': 44816,\n",
       " '·': 3626,\n",
       " '(': 21766,\n",
       " ')': 21740,\n",
       " \"'\": 13833,\n",
       " '㈜': 515,\n",
       " ':': 765,\n",
       " ',': 44570,\n",
       " '-': 6933,\n",
       " '\"': 13907,\n",
       " '‧': 181,\n",
       " '▲': 362,\n",
       " '%': 1382,\n",
       " '/': 341,\n",
       " '&': 260,\n",
       " '!': 168,\n",
       " ';': 62,\n",
       " '=': 17,\n",
       " '→': 30,\n",
       " '△': 232,\n",
       " '*': 20,\n",
       " '｢': 11,\n",
       " '｣': 11,\n",
       " '★': 3,\n",
       " '>': 2,\n",
       " '․': 133,\n",
       " '「': 130,\n",
       " '」': 130,\n",
       " '・': 41,\n",
       " '•': 8,\n",
       " '☎': 28,\n",
       " '[': 398,\n",
       " ']': 391,\n",
       " '☆': 2,\n",
       " '`': 39,\n",
       " '※': 4,\n",
       " '|': 38,\n",
       " '『': 37,\n",
       " '』': 37,\n",
       " '。': 3,\n",
       " '，': 4,\n",
       " '㎡': 17,\n",
       " '́': 2,\n",
       " '_': 7,\n",
       " '∞': 3,\n",
       " '♥': 5,\n",
       " '{': 6,\n",
       " '}': 6,\n",
       " '°': 2,\n",
       " '℃': 2,\n",
       " '∙': 15,\n",
       " '♡': 2,\n",
       " '$': 13,\n",
       " '㎖': 1,\n",
       " '≪': 5,\n",
       " '≫': 5,\n",
       " '□': 1,\n",
       " '\\u200e': 2,\n",
       " '☏': 4,\n",
       " '?': 1,\n",
       " '―': 5,\n",
       " '○': 5,\n",
       " '़': 2,\n",
       " 'ी': 4,\n",
       " 'ु': 4,\n",
       " '्': 4,\n",
       " 'ा': 2,\n",
       " '×': 5,\n",
       " '—': 8,\n",
       " '₫': 1,\n",
       " '<': 1,\n",
       " '㎜': 1,\n",
       " '\\uf09e': 1,\n",
       " '´': 1,\n",
       " '●': 1,\n",
       " '▶': 6}"
      ]
     },
     "execution_count": 47,
     "metadata": {},
     "output_type": "execute_result"
    }
   ],
   "source": [
    "sc_dict_all"
   ]
  },
  {
   "cell_type": "code",
   "execution_count": 54,
   "id": "2095b02a",
   "metadata": {},
   "outputs": [],
   "source": [
    "train_df_copy.to_csv('./dataset/train/train_spc_char1.csv',header = True,index = False)"
   ]
  },
  {
   "cell_type": "code",
   "execution_count": 55,
   "id": "81d44fba",
   "metadata": {},
   "outputs": [],
   "source": [
    "test_df_copy.to_csv('./dataset/test/test_spc_char1.csv',header = True,index = False)"
   ]
  },
  {
   "cell_type": "code",
   "execution_count": null,
   "id": "c526c4e6",
   "metadata": {},
   "outputs": [],
   "source": []
  },
  {
   "cell_type": "code",
   "execution_count": null,
   "id": "3fe3f820",
   "metadata": {},
   "outputs": [],
   "source": []
  },
  {
   "cell_type": "code",
   "execution_count": null,
   "id": "09da6368",
   "metadata": {},
   "outputs": [],
   "source": []
  },
  {
   "cell_type": "code",
   "execution_count": null,
   "id": "903823d5",
   "metadata": {},
   "outputs": [],
   "source": []
  }
 ],
 "metadata": {
  "kernelspec": {
   "display_name": "Python 3 (ipykernel)",
   "language": "python",
   "name": "python3"
  },
  "language_info": {
   "codemirror_mode": {
    "name": "ipython",
    "version": 3
   },
   "file_extension": ".py",
   "mimetype": "text/x-python",
   "name": "python",
   "nbconvert_exporter": "python",
   "pygments_lexer": "ipython3",
   "version": "3.8.5"
  }
 },
 "nbformat": 4,
 "nbformat_minor": 5
}
