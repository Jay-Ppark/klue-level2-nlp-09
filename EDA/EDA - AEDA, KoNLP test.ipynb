{
 "cells": [
  {
   "cell_type": "code",
   "execution_count": 69,
   "id": "0c06e18f",
   "metadata": {},
   "outputs": [],
   "source": [
    "from koeda import AEDA\n",
    "aeda = AEDA(\n",
    "    morpheme_analyzer=\"Okt\", punc_ratio=0.8, punctuations=[\".\",\",\", \"!\", \"?\", \";\", \":\"]\n",
    ")\n",
    "# JVMNotFoundException: No JVM shared library file (libjvm.so) found. Try setting up the JAVA_HOME environment variable properly.\n",
    "#!apt install -y sudo\n",
    "#!sudo apt install default-jdk"
   ]
  },
  {
   "cell_type": "code",
   "execution_count": 70,
   "id": "40ad15f5",
   "metadata": {},
   "outputs": [],
   "source": [
    "text = \"1967년 프로 야구 드래프트 1순위로 요미우리 자이언츠에게 입단하면서 등번호는 8번으로 배정되었다\"\n"
   ]
  },
  {
   "cell_type": "code",
   "execution_count": 71,
   "id": "940d9afd",
   "metadata": {},
   "outputs": [
    {
     "data": {
      "text/plain": [
       "'1967년 프로 야구 ! 드래프트 1순위 : 로 요미우리 자이언츠 : 에게 입단하면서 등번호 ; 는 8번 ! 으로 배정 . 되었다'"
      ]
     },
     "execution_count": 71,
     "metadata": {},
     "output_type": "execute_result"
    }
   ],
   "source": [
    "result = aeda(text)\n",
    "result"
   ]
  },
  {
   "cell_type": "code",
   "execution_count": 72,
   "id": "199cc514",
   "metadata": {},
   "outputs": [],
   "source": [
    "text2 = '@*PER*이순신은@ 조선시대 중기 #^POH^무신#이다'\n",
    "text3 = '#^PER^조지 해리슨#이 쓰고 @*ORG*비틀즈@'"
   ]
  },
  {
   "cell_type": "code",
   "execution_count": 73,
   "id": "17251ba5",
   "metadata": {},
   "outputs": [
    {
     "data": {
      "text/plain": [
       "'^POH^무신'"
      ]
     },
     "execution_count": 73,
     "metadata": {},
     "output_type": "execute_result"
    }
   ],
   "source": [
    "text2.split('#')[1]"
   ]
  },
  {
   "cell_type": "code",
   "execution_count": 74,
   "id": "b330725a",
   "metadata": {},
   "outputs": [
    {
     "data": {
      "text/plain": [
       "'#^POH^무신#'"
      ]
     },
     "execution_count": 74,
     "metadata": {},
     "output_type": "execute_result"
    }
   ],
   "source": [
    "task1 = text2.split('#')[1]\n",
    "task1 = '#'+task1+'#'\n",
    "task1"
   ]
  },
  {
   "cell_type": "code",
   "execution_count": 75,
   "id": "8c8d0123",
   "metadata": {},
   "outputs": [
    {
     "data": {
      "text/plain": [
       "'@*PER*이순신은@'"
      ]
     },
     "execution_count": 75,
     "metadata": {},
     "output_type": "execute_result"
    }
   ],
   "source": [
    "task2 = text2.split('@')[1]\n",
    "task2 = '@'+task2+'@'\n",
    "task2"
   ]
  },
  {
   "cell_type": "code",
   "execution_count": 101,
   "id": "97febf30",
   "metadata": {},
   "outputs": [],
   "source": [
    "while(1):\n",
    "    result = aeda(text2)\n",
    "    if  task1 in result and task2 in result:\n",
    "        break"
   ]
  },
  {
   "cell_type": "code",
   "execution_count": 102,
   "id": "dd41f383",
   "metadata": {},
   "outputs": [
    {
     "name": "stdout",
     "output_type": "stream",
     "text": [
      "@*PER*이순신은@ 조선시대 . 중기 #^POH^무신#이다\n"
     ]
    }
   ],
   "source": [
    "print(result)"
   ]
  },
  {
   "cell_type": "markdown",
   "id": "7d2e3aab",
   "metadata": {},
   "source": [
    "## Konlpy 형태소분석기 비교"
   ]
  },
  {
   "cell_type": "code",
   "execution_count": 100,
   "id": "ba641ac6",
   "metadata": {},
   "outputs": [],
   "source": [
    "in_str = '2009년 9월, 미국 프로 야구 @*ORG*필라델피아 필리스@ 소속의 야구 선수 #^PER^박찬호#는 《MBC 스페셜-박찬호는 당신을 잊지 않았다》 편에서 “최진실 씨의 아픔과 죽음의 고통을 이해합니다. 최진실 씨 사건에 눈물을 흘렸습니다. 저도 죽으려고 마음을 먹었던 적이 있었습니다. 잘하려고 애를 쓰는데 비난과 비판이 쏟아졌습니다. 머리가 빠지고 너무 힘들었습니다”라고 말하며 최진실의 죽음에 대해 안타까움을 표현했다.'"
   ]
  },
  {
   "cell_type": "code",
   "execution_count": 18,
   "id": "b331e32c",
   "metadata": {},
   "outputs": [],
   "source": [
    "from konlpy.tag import *"
   ]
  },
  {
   "cell_type": "code",
   "execution_count": 19,
   "id": "b2c454a5",
   "metadata": {},
   "outputs": [],
   "source": [
    "kkma = Kkma()\n",
    "okt = Okt()\n",
    "komoran = Komoran()\n",
    "hannanum = Hannanum()\n",
    "mecab = Mecab()"
   ]
  },
  {
   "cell_type": "code",
   "execution_count": 20,
   "id": "85dcc238",
   "metadata": {},
   "outputs": [
    {
     "name": "stdout",
     "output_type": "stream",
     "text": [
      "okt 형태소 분석:  ['2009년', '9월', ',', '미국', '프로', '야구', '@*', 'ORG', '*', '필라델피아', '필리스', '@', '소속', '의', '야구', '선수', '#^', 'PER', '^', '박찬호', '#', '는', '《', 'MBC', '스페셜', '-', '박찬호', '는', '당신', '을', '잊지', '않았다', '》', '편', '에서', '“', '최진실', '씨', '의', '아픔', '과', '죽음', '의', '고통', '을', '이해', '합니다', '.', '최진실', '씨', '사건', '에', '눈물', '을', '흘렸습니다', '.', '저', '도', '죽으려고', '마음', '을', '먹었던', '적', '이', '있었습니다', '.', '잘', '하려고', '애', '를', '쓰는데', '비난', '과', '비판', '이', '쏟아졌습니다', '.', '머리', '가', '빠지고', '너무', '힘들었습니다', '”', '라고', '말', '하며', '최진실', '의', '죽음', '에', '대해', '안타까', '움', '을', '표현', '했다', '.']\n",
      "kkma 형태소 분석:  ['2009', '년', '9', '월', ',', '미국', '프로', '야구', '@', '*', 'ORG', '*', '필라델피아', '필', '리스', '@', '소속', '의', '야구', '선수', '#', '^', 'PER', '^', '박찬호', '#', '늘', 'ㄴ', '《', 'MBC', '스페셜', '-', '박찬호', '는', '당신', '을', '잊', '지', '않', '았', '다', '》', '편', '에서', '“', '최', '진실', '씨', '의', '아픔', '과', '죽음', '의', '고통', '을', '이해', '하', 'ㅂ니다', '.', '최', '진실', '씨', '사건', '에', '눈물', '을', '흘리', '었', '습니다', '.', '저', '도', '죽', '으려고', '마음', '을', '먹', '었', '더', 'ㄴ', '적이', '있', '었', '습니다', '.', '잘하', '려고', '애', '를', '쓰', '는데', '비난', '과', '비판', '이', '쏟아지', '었', '습니다', '.', '머리', '가', '빠지', '고', '너무', '힘들', '었', '습니다', '”', '라고', '말하', '며', '최', '진실', '의', '죽음', '에', '대하', '어', '안타깝', 'ㅁ', '을', '표현', '하', '었', '다', '.']\n",
      "hannanum 형태소 분석:  ['2009년', '9월', ',', '미국', '프로', '야구', '@*ORG*필라델피아', '필리스@', '소속', '의', '야구', '서', 'ㄴ', '수', '#^PER^박찬호#', '는', '《MBC', '스페셜-박찬호', '는', '당신', '을', '잊', '지', '않았다》', '편', '에서', '“최진실', '씨', '의', '아프', 'ㅁ', '과', '죽음', '의', '고통', '을', '이해', '하', 'ㅂ니다', '.', '최진실', '쓰', '어', '사건', '에', '눈물', '을', '흘리', '었습니다', '.', '저', '도', '죽', '으려고', '마음', '을', '먹', '었던', '적', '이', '있', '었습니다', '.', '잘하', '려고', '애', '를', '쓰', 'ㄴ데', '비난', '과', '비판', '이', '쏟', '아', '지', '었습니다', '.', '머리', '가', '빠지', '고', '너무', '힘들었습니다”라', '이', '고', '말', '하', '며', '최진실', '의', '죽음', '에', '대', '어', '하', '어', '안타깝', '음', '을', '표현', '하', '었다', '.']\n",
      "komoran 형태소 분석:  ['2009년 9월', ',', '미국', '프로 야구', '@', '*', 'ORG', '*', '필라델피아 필리스', '@', '소속', '의', '야구', '선수', '#', '^', 'PER', '^', '박찬호', '#', '는', '《', 'MBC', '스페셜', '-', '박찬호', '는', '당신', '을', '잊', '지', '않', '았', '다', '》', '편', '에서', '“', '최진실', '씨', '의', '아픔', '과', '죽음', '의', '고통', '을', '이해', '하', 'ㅂ니다', '.', '최진실', '씨', '사건', '에', '눈물', '을', '흘리', '었', '습니다', '.', '저', '도', '죽', '으려고', '마음', '을', '먹', '었', '던', '적', '이', '있', '었', '습니다', '.', '잘', '하', '려고', '애', '를', '쓰', '는데', '비난', '과', '비판', '이', '쏟아지', '었', '습니다', '.', '머리', '가', '빠지', '고', '너무', '힘들', '었', '습니다', '”', '라고', '말', '하', '며', '최진실의 죽음', '에', '대하', '아', '안타깝', 'ㅁ', '을', '표현', '하', '았', '다', '.']\n",
      "mecab 형태소 분석:  ['2009', '년', '9', '월', ',', '미국', '프로', '야구', '@*', 'ORG', '*', '필라델피아', '필리스', '@', '소속', '의', '야구', '선수', '#^', 'PER', '^', '박찬호', '#', '는', '《', 'MBC', '스페셜', '-', '박찬호', '는', '당신', '을', '잊', '지', '않', '았', '다', '》', '편', '에서', '“', '최진실', '씨', '의', '아픔', '과', '죽음', '의', '고통', '을', '이해', '합니다', '.', '최진실', '씨', '사건', '에', '눈물', '을', '흘렸', '습니다', '.', '저', '도', '죽', '으려고', '마음', '을', '먹', '었', '던', '적', '이', '있', '었', '습니다', '.', '잘', '하', '려고', '애', '를', '쓰', '는데', '비난', '과', '비판', '이', '쏟아졌', '습니다', '.', '머리', '가', '빠지', '고', '너무', '힘들', '었', '습니다', '”', '라고', '말', '하', '며', '최진실', '의', '죽음', '에', '대해', '안타까움', '을', '표현', '했', '다', '.']\n"
     ]
    }
   ],
   "source": [
    "print(\"okt 형태소 분석: \", okt.morphs(in_str))\n",
    "print(\"kkma 형태소 분석: \", kkma.morphs(in_str))\n",
    "print(\"hannanum 형태소 분석: \", hannanum.morphs(in_str))\n",
    "print(\"komoran 형태소 분석: \", komoran.morphs(in_str))\n",
    "print(\"mecab 형태소 분석: \", mecab.morphs(in_str))"
   ]
  },
  {
   "cell_type": "code",
   "execution_count": null,
   "id": "254c33f8",
   "metadata": {},
   "outputs": [],
   "source": []
  }
 ],
 "metadata": {
  "kernelspec": {
   "display_name": "Python 3 (ipykernel)",
   "language": "python",
   "name": "python3"
  },
  "language_info": {
   "codemirror_mode": {
    "name": "ipython",
    "version": 3
   },
   "file_extension": ".py",
   "mimetype": "text/x-python",
   "name": "python",
   "nbconvert_exporter": "python",
   "pygments_lexer": "ipython3",
   "version": "3.8.5"
  }
 },
 "nbformat": 4,
 "nbformat_minor": 5
}
